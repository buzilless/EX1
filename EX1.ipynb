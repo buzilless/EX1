{
  "nbformat": 4,
  "nbformat_minor": 0,
  "metadata": {
    "colab": {
      "name": "EX1.ipynb",
      "provenance": []
    },
    "kernelspec": {
      "name": "python3",
      "display_name": "Python 3"
    },
    "language_info": {
      "name": "python"
    }
  },
  "cells": [
    {
      "cell_type": "markdown",
      "source": [
        "# 1-1 손글씨를 분류해보자"
      ],
      "metadata": {
        "id": "oivoWWQL_XRT"
      }
    },
    {
      "cell_type": "markdown",
      "source": [
        "목적: 0~9 사이의 손글씨 이미지를 보고 모델을 학습시킨다"
      ],
      "metadata": {
        "id": "26xu4uq6_fE1"
      }
    },
    {
      "cell_type": "markdown",
      "source": [
        "# 1. 모듈 불러오기"
      ],
      "metadata": {
        "id": "mke6mUH9_rif"
      }
    },
    {
      "cell_type": "code",
      "source": [
        "import numpy as np\n",
        "import pandas as pd\n",
        "import matplotlib.pyplot as plt\n",
        "%matplotlib inline\n",
        "from sklearn.datasets import load_digits\n",
        "from sklearn.model_selection import train_test_split\n",
        "from sklearn.metrics import classification_report"
      ],
      "metadata": {
        "id": "gIWhgvnB_W4d"
      },
      "execution_count": 49,
      "outputs": []
    },
    {
      "cell_type": "markdown",
      "source": [
        "# 2. 데이터 준비"
      ],
      "metadata": {
        "id": "TleGvHD3KjDA"
      }
    },
    {
      "cell_type": "code",
      "source": [
        "load = load_digits()   # load_digits 데이터셋에 이름을 부여한다"
      ],
      "metadata": {
        "id": "egSvOLFuKnXk"
      },
      "execution_count": 50,
      "outputs": []
    },
    {
      "cell_type": "markdown",
      "source": [
        "## 3. 데이터의 정보 확인"
      ],
      "metadata": {
        "id": "xkr_SKOoBTlG"
      }
    },
    {
      "cell_type": "markdown",
      "source": [
        "- 전체적인 데이터를 직접 살펴보기\n",
        "- 살펴본 데이터를 기반으로 감잡기\n",
        "- 어떤 문제이고 어떤 학습 기법을 적용해야 하는지 생각해보기"
      ],
      "metadata": {
        "id": "1bFfhakZJsGJ"
      }
    },
    {
      "cell_type": "code",
      "source": [
        "print(load.keys())\n",
        "# 데이터의 정보들을 확인한다"
      ],
      "metadata": {
        "colab": {
          "base_uri": "https://localhost:8080/"
        },
        "id": "lIRFv7x2BWyd",
        "outputId": "1831770d-65b1-4b04-fe3d-c08a1d53f09d"
      },
      "execution_count": 51,
      "outputs": [
        {
          "output_type": "stream",
          "name": "stdout",
          "text": [
            "dict_keys(['data', 'target', 'frame', 'feature_names', 'target_names', 'images', 'DESCR'])\n"
          ]
        }
      ]
    },
    {
      "cell_type": "code",
      "execution_count": 52,
      "metadata": {
        "colab": {
          "base_uri": "https://localhost:8080/"
        },
        "id": "wamthbsi_M6n",
        "outputId": "f145f253-d296-4129-f77b-8adc4769e2dd"
      },
      "outputs": [
        {
          "output_type": "stream",
          "name": "stdout",
          "text": [
            "['DESCR', 'data', 'feature_names', 'frame', 'images', 'target', 'target_names']\n"
          ]
        }
      ],
      "source": [
        "\n",
        "print(dir(load))\n",
        "\n",
        "# 우선 데이터셋에 어떤 변수와 메서드를 가지고 있는지 체크한다"
      ]
    },
    {
      "cell_type": "code",
      "source": [
        "load.data[0]           \n",
        "# 데이터의 0번째 줄을 봄으로써 어떤식으로 구성되어있는지 확인한다\n",
        "# 숫자 이미지를 구분하는 것 이기  때문에 8x8로 64개인것을 추측 할수 있으며 각각의 값은 pixel값임을 추측할 수 있다 "
      ],
      "metadata": {
        "colab": {
          "base_uri": "https://localhost:8080/"
        },
        "id": "4jIJXf2lCPyI",
        "outputId": "92fe1d47-b649-4c98-cd11-cd1d39893eb1"
      },
      "execution_count": 53,
      "outputs": [
        {
          "output_type": "execute_result",
          "data": {
            "text/plain": [
              "array([ 0.,  0.,  5., 13.,  9.,  1.,  0.,  0.,  0.,  0., 13., 15., 10.,\n",
              "       15.,  5.,  0.,  0.,  3., 15.,  2.,  0., 11.,  8.,  0.,  0.,  4.,\n",
              "       12.,  0.,  0.,  8.,  8.,  0.,  0.,  5.,  8.,  0.,  0.,  9.,  8.,\n",
              "        0.,  0.,  4., 11.,  0.,  1., 12.,  7.,  0.,  0.,  2., 14.,  5.,\n",
              "       10., 12.,  0.,  0.,  0.,  0.,  6., 13., 10.,  0.,  0.,  0.])"
            ]
          },
          "metadata": {},
          "execution_count": 53
        }
      ]
    },
    {
      "cell_type": "code",
      "source": [
        "print(load.target_names)\n"
      ],
      "metadata": {
        "colab": {
          "base_uri": "https://localhost:8080/"
        },
        "id": "frk6KgjYDVyq",
        "outputId": "92fd01d6-8bf5-4b23-be9a-7e6500700dc2"
      },
      "execution_count": 54,
      "outputs": [
        {
          "output_type": "stream",
          "name": "stdout",
          "text": [
            "[0 1 2 3 4 5 6 7 8 9]\n"
          ]
        }
      ]
    },
    {
      "cell_type": "code",
      "source": [
        "load_feature = load.feature_names\n",
        "print(load_feature)\n",
        "\n",
        "# 위에서 말했듯이 pixel값이 8x8로 되어있음을 확인 할 수있다"
      ],
      "metadata": {
        "colab": {
          "base_uri": "https://localhost:8080/"
        },
        "id": "tkeqESbjDlM3",
        "outputId": "47e52cfd-2632-4e2a-c8e4-d271e69faeb5"
      },
      "execution_count": 55,
      "outputs": [
        {
          "output_type": "stream",
          "name": "stdout",
          "text": [
            "['pixel_0_0', 'pixel_0_1', 'pixel_0_2', 'pixel_0_3', 'pixel_0_4', 'pixel_0_5', 'pixel_0_6', 'pixel_0_7', 'pixel_1_0', 'pixel_1_1', 'pixel_1_2', 'pixel_1_3', 'pixel_1_4', 'pixel_1_5', 'pixel_1_6', 'pixel_1_7', 'pixel_2_0', 'pixel_2_1', 'pixel_2_2', 'pixel_2_3', 'pixel_2_4', 'pixel_2_5', 'pixel_2_6', 'pixel_2_7', 'pixel_3_0', 'pixel_3_1', 'pixel_3_2', 'pixel_3_3', 'pixel_3_4', 'pixel_3_5', 'pixel_3_6', 'pixel_3_7', 'pixel_4_0', 'pixel_4_1', 'pixel_4_2', 'pixel_4_3', 'pixel_4_4', 'pixel_4_5', 'pixel_4_6', 'pixel_4_7', 'pixel_5_0', 'pixel_5_1', 'pixel_5_2', 'pixel_5_3', 'pixel_5_4', 'pixel_5_5', 'pixel_5_6', 'pixel_5_7', 'pixel_6_0', 'pixel_6_1', 'pixel_6_2', 'pixel_6_3', 'pixel_6_4', 'pixel_6_5', 'pixel_6_6', 'pixel_6_7', 'pixel_7_0', 'pixel_7_1', 'pixel_7_2', 'pixel_7_3', 'pixel_7_4', 'pixel_7_5', 'pixel_7_6', 'pixel_7_7']\n"
          ]
        }
      ]
    },
    {
      "cell_type": "code",
      "source": [
        "print(load.images)\n"
      ],
      "metadata": {
        "colab": {
          "base_uri": "https://localhost:8080/"
        },
        "id": "3qYO_qHcEKcx",
        "outputId": "657c1f13-c8cb-4e1c-d31c-837b91d43cc7"
      },
      "execution_count": 56,
      "outputs": [
        {
          "output_type": "stream",
          "name": "stdout",
          "text": [
            "[[[ 0.  0.  5. ...  1.  0.  0.]\n",
            "  [ 0.  0. 13. ... 15.  5.  0.]\n",
            "  [ 0.  3. 15. ... 11.  8.  0.]\n",
            "  ...\n",
            "  [ 0.  4. 11. ... 12.  7.  0.]\n",
            "  [ 0.  2. 14. ... 12.  0.  0.]\n",
            "  [ 0.  0.  6. ...  0.  0.  0.]]\n",
            "\n",
            " [[ 0.  0.  0. ...  5.  0.  0.]\n",
            "  [ 0.  0.  0. ...  9.  0.  0.]\n",
            "  [ 0.  0.  3. ...  6.  0.  0.]\n",
            "  ...\n",
            "  [ 0.  0.  1. ...  6.  0.  0.]\n",
            "  [ 0.  0.  1. ...  6.  0.  0.]\n",
            "  [ 0.  0.  0. ... 10.  0.  0.]]\n",
            "\n",
            " [[ 0.  0.  0. ... 12.  0.  0.]\n",
            "  [ 0.  0.  3. ... 14.  0.  0.]\n",
            "  [ 0.  0.  8. ... 16.  0.  0.]\n",
            "  ...\n",
            "  [ 0.  9. 16. ...  0.  0.  0.]\n",
            "  [ 0.  3. 13. ... 11.  5.  0.]\n",
            "  [ 0.  0.  0. ... 16.  9.  0.]]\n",
            "\n",
            " ...\n",
            "\n",
            " [[ 0.  0.  1. ...  1.  0.  0.]\n",
            "  [ 0.  0. 13. ...  2.  1.  0.]\n",
            "  [ 0.  0. 16. ... 16.  5.  0.]\n",
            "  ...\n",
            "  [ 0.  0. 16. ... 15.  0.  0.]\n",
            "  [ 0.  0. 15. ... 16.  0.  0.]\n",
            "  [ 0.  0.  2. ...  6.  0.  0.]]\n",
            "\n",
            " [[ 0.  0.  2. ...  0.  0.  0.]\n",
            "  [ 0.  0. 14. ... 15.  1.  0.]\n",
            "  [ 0.  4. 16. ... 16.  7.  0.]\n",
            "  ...\n",
            "  [ 0.  0.  0. ... 16.  2.  0.]\n",
            "  [ 0.  0.  4. ... 16.  2.  0.]\n",
            "  [ 0.  0.  5. ... 12.  0.  0.]]\n",
            "\n",
            " [[ 0.  0. 10. ...  1.  0.  0.]\n",
            "  [ 0.  2. 16. ...  1.  0.  0.]\n",
            "  [ 0.  0. 15. ... 15.  0.  0.]\n",
            "  ...\n",
            "  [ 0.  4. 16. ... 16.  6.  0.]\n",
            "  [ 0.  8. 16. ... 16.  8.  0.]\n",
            "  [ 0.  1.  8. ... 12.  1.  0.]]]\n"
          ]
        }
      ]
    },
    {
      "cell_type": "code",
      "source": [
        "plt.imshow(load.data[0].reshape(8,8),cmap='gray')\n",
        "plt.axis('off')\n",
        "plt.show()\n",
        "\n",
        "#  이미지 보기"
      ],
      "metadata": {
        "colab": {
          "base_uri": "https://localhost:8080/",
          "height": 248
        },
        "id": "wdgC6yA0E7oI",
        "outputId": "08a4f7c0-2ff1-40bb-ac11-f6b6c9e63975"
      },
      "execution_count": 57,
      "outputs": [
        {
          "output_type": "display_data",
          "data": {
            "text/plain": [
              "<Figure size 432x288 with 1 Axes>"
            ],
            "image/png": "[encoded data removed]"
          },
          "metadata": {
            "needs_background": "light"
          }
        }
      ]
    },
    {
      "cell_type": "code",
      "source": [
        "load_data = load.data     # 피쳐 데이터 지정\n",
        "print(load_data.shape)\n",
        "# 데이터 정보에서 나온 첫번째인 data의 개수를 먼저 확인해보자(데이터의 수는 1797개고 64개의 정보를 가지고 있다)"
      ],
      "metadata": {
        "colab": {
          "base_uri": "https://localhost:8080/"
        },
        "id": "IonzxJtJBoaL",
        "outputId": "35350dec-6e00-4dbc-99c0-cc761a69277f"
      },
      "execution_count": 58,
      "outputs": [
        {
          "output_type": "stream",
          "name": "stdout",
          "text": [
            "(1797, 64)\n"
          ]
        }
      ]
    },
    {
      "cell_type": "code",
      "source": [
        "load_label = load.target       # 라벨 데이터 지정\n",
        "print(load_label)\n",
        "# 두번째 정보인 target을 확인한다\n",
        "# target은 정답이기 때문에 label로 변수를 지정해준다"
      ],
      "metadata": {
        "colab": {
          "base_uri": "https://localhost:8080/"
        },
        "id": "CaWJuv5aCobj",
        "outputId": "ea4d5d89-78c3-49e8-8c12-f3aa29fdc997"
      },
      "execution_count": 59,
      "outputs": [
        {
          "output_type": "stream",
          "name": "stdout",
          "text": [
            "[0 1 2 ... 8 9 8]\n"
          ]
        }
      ]
    },
    {
      "cell_type": "markdown",
      "source": [
        "# 4. train,test 데이터 분리\n",
        "\n",
        "데이터들을 수집했으니 모델을 학습시켜야 한다 \n",
        "그전에 데이터를 훈련용과 테스트용을 쪼갠다"
      ],
      "metadata": {
        "id": "pAjjS22VN1QC"
      }
    },
    {
      "cell_type": "code",
      "source": [
        "from sklearn.model_selection import train_test_split\n",
        "\n",
        "X_train, X_test,y_train, y_test = train_test_split(load_data,load_label,test_size=0.2, random_state=7 ) \n",
        "X_train.shape, y_train.shape # 잘 나눠졌는지 체크\n",
        "\n"
      ],
      "metadata": {
        "colab": {
          "base_uri": "https://localhost:8080/"
        },
        "id": "IjWS9TFDM3_n",
        "outputId": "e165d98a-f500-4fff-a0c7-cca48a30c87a"
      },
      "execution_count": 60,
      "outputs": [
        {
          "output_type": "execute_result",
          "data": {
            "text/plain": [
              "((1437, 64), (1437,))"
            ]
          },
          "metadata": {},
          "execution_count": 60
        }
      ]
    },
    {
      "cell_type": "markdown",
      "source": [
        "- X_train, X_test,y_train, y_test = train_test_split(load_data,load_label,test_size=0.2, random_state=7 ) \n",
        "- 트레인 테스트 순서를 지키지 않아서 한시간을 날렸다 꼭 기억하자!\n",
        "\n",
        "- https://scikit-learn.org/stable/modules/generated/sklearn.model_selection.train_test_split.html 학습링크"
      ],
      "metadata": {
        "id": "bUXw46E1Ya9S"
      }
    },
    {
      "cell_type": "code",
      "source": [
        "y_train, y_test # 문제와 정답들이 다 섞인걸 확인 할수있다 "
      ],
      "metadata": {
        "colab": {
          "base_uri": "https://localhost:8080/"
        },
        "id": "zkueOLaQPdia",
        "outputId": "8015a6f3-1f28-46b8-ba91-55adbfb51d16"
      },
      "execution_count": 61,
      "outputs": [
        {
          "output_type": "execute_result",
          "data": {
            "text/plain": [
              "(array([2, 2, 2, ..., 1, 3, 3]),\n",
              " array([6, 0, 5, 9, 2, 9, 0, 4, 1, 0, 1, 8, 2, 5, 2, 8, 1, 8, 9, 1, 0, 2,\n",
              "        0, 4, 5, 3, 3, 0, 0, 4, 1, 4, 4, 4, 6, 1, 4, 0, 6, 6, 0, 9, 3, 6,\n",
              "        6, 2, 0, 1, 9, 6, 2, 8, 9, 9, 0, 2, 0, 8, 4, 6, 8, 5, 8, 7, 8, 7,\n",
              "        7, 4, 1, 4, 5, 5, 4, 6, 2, 0, 1, 3, 7, 5, 8, 2, 4, 4, 2, 5, 1, 9,\n",
              "        3, 7, 6, 3, 3, 5, 6, 2, 1, 0, 1, 9, 4, 1, 1, 3, 1, 6, 9, 0, 3, 7,\n",
              "        6, 9, 3, 8, 0, 8, 3, 8, 8, 6, 3, 7, 3, 9, 0, 3, 0, 9, 8, 1, 2, 2,\n",
              "        3, 6, 9, 4, 0, 5, 4, 2, 9, 1, 0, 2, 5, 0, 2, 2, 7, 4, 6, 9, 8, 2,\n",
              "        6, 0, 4, 4, 8, 5, 0, 2, 4, 6, 8, 2, 3, 7, 2, 9, 0, 3, 5, 9, 1, 6,\n",
              "        8, 7, 5, 3, 0, 4, 2, 1, 3, 3, 6, 0, 2, 8, 4, 1, 4, 7, 5, 7, 6, 6,\n",
              "        8, 1, 0, 6, 8, 7, 1, 1, 9, 8, 5, 5, 3, 6, 8, 1, 2, 0, 7, 5, 3, 0,\n",
              "        8, 2, 0, 4, 0, 9, 4, 8, 4, 7, 9, 7, 3, 6, 2, 5, 1, 5, 9, 2, 9, 9,\n",
              "        8, 2, 1, 6, 7, 1, 7, 5, 7, 8, 9, 5, 7, 4, 3, 7, 8, 8, 2, 8, 9, 5,\n",
              "        3, 2, 8, 0, 4, 2, 1, 0, 8, 4, 1, 7, 1, 4, 7, 7, 1, 8, 3, 8, 4, 3,\n",
              "        5, 9, 4, 4, 8, 1, 8, 7, 2, 3, 1, 1, 1, 0, 2, 8, 0, 7, 4, 0, 1, 0,\n",
              "        2, 3, 7, 9, 8, 5, 8, 2, 2, 6, 5, 0, 8, 9, 8, 9, 0, 0, 9, 7, 4, 1,\n",
              "        2, 6, 7, 3, 7, 4, 0, 2, 1, 7, 2, 5, 7, 2, 3, 5, 7, 1, 4, 1, 3, 3,\n",
              "        8, 8, 1, 0, 1, 9, 3, 0]))"
            ]
          },
          "metadata": {},
          "execution_count": 61
        }
      ]
    },
    {
      "cell_type": "markdown",
      "source": [
        "훈련용과 테스트용을 나누고 순서를 섞었으니 이제 train을 모듈에 fit시키면 학습이 된다"
      ],
      "metadata": {
        "id": "6ZC99h_XPyQT"
      }
    },
    {
      "cell_type": "code",
      "source": [
        "X_train.shape\n",
        "\n",
        "# 1437 개의 문제에 64개의 내용들이 들어있다(픽셀)"
      ],
      "metadata": {
        "colab": {
          "base_uri": "https://localhost:8080/"
        },
        "id": "WDZMUYdwW4S3",
        "outputId": "3338a5df-9bf9-40f7-fda3-2df36b10ba8e"
      },
      "execution_count": 62,
      "outputs": [
        {
          "output_type": "execute_result",
          "data": {
            "text/plain": [
              "(1437, 64)"
            ]
          },
          "metadata": {},
          "execution_count": 62
        }
      ]
    },
    {
      "cell_type": "code",
      "source": [
        "y_train.shape\n",
        "\n",
        "# 위와 동일하게 1437개의 답이 준비되어있다"
      ],
      "metadata": {
        "colab": {
          "base_uri": "https://localhost:8080/"
        },
        "id": "tNy4c81aW4OV",
        "outputId": "6f0fa328-2eb9-4a45-daa3-3a6ac500729b"
      },
      "execution_count": 63,
      "outputs": [
        {
          "output_type": "execute_result",
          "data": {
            "text/plain": [
              "(1437,)"
            ]
          },
          "metadata": {},
          "execution_count": 63
        }
      ]
    },
    {
      "cell_type": "markdown",
      "source": [
        "# 5. 다양한 모델로 학습시켜 보기"
      ],
      "metadata": {
        "id": "MV_rvt9MFXGn"
      }
    },
    {
      "cell_type": "markdown",
      "source": [
        "여러가지 학습 모델을 사용해 이런 분류 문제는 어느 알고리즘이 가장 적합한지 알아보는것 같다"
      ],
      "metadata": {
        "id": "i85yrzd3Fcm3"
      }
    },
    {
      "cell_type": "markdown",
      "source": [
        "1. Decision Tree 사용해 보기    \n",
        "2. Random Forest 사용해 보기     \n",
        "3. SVM 사용해 보기     \n",
        "4. SGD Classifier 사용해 보기     \n",
        "5. Logistic Regression 사용해 보기    "
      ],
      "metadata": {
        "id": "cq5o6FUpBNZj"
      }
    },
    {
      "cell_type": "markdown",
      "source": [
        "### Decision Tree 적용"
      ],
      "metadata": {
        "id": "MBDZaDnHmcuD"
      }
    },
    {
      "cell_type": "code",
      "source": [
        "from sklearn.tree import DecisionTreeClassifier   # 결정트리 학습모델 불러오기\n",
        "\n",
        "decision_tree = DecisionTreeClassifier(random_state = 7)  # 변수지정\n",
        "decision_tree.fit(X_train, y_train)                       # 학습\n",
        "\n",
        "y_pred = decision_tree.predict(X_test)                    # 테스트 예측값 넣기\n",
        "\n",
        "from sklearn.metrics import accuracy_score               # 정확도 메서드 가져오기\n",
        "\n",
        "print(classification_report(y_test, y_pred))            #오차행렬을 사용해 정밀도 체크\n",
        "\n",
        "accuracy = accuracy_score(y_test, y_pred)\n",
        "accuracy\n",
        "print('accuracy: ',accuracy)"
      ],
      "metadata": {
        "colab": {
          "base_uri": "https://localhost:8080/"
        },
        "id": "cp7RWQX0mcQF",
        "outputId": "d1cc46ed-18f8-4f22-8cfa-427f99a03226"
      },
      "execution_count": 64,
      "outputs": [
        {
          "output_type": "stream",
          "name": "stdout",
          "text": [
            "              precision    recall  f1-score   support\n",
            "\n",
            "           0       1.00      0.95      0.98        43\n",
            "           1       0.75      0.79      0.77        42\n",
            "           2       0.77      0.82      0.80        40\n",
            "           3       0.84      0.91      0.87        34\n",
            "           4       0.83      0.92      0.87        37\n",
            "           5       0.90      0.96      0.93        28\n",
            "           6       0.90      0.93      0.91        28\n",
            "           7       0.90      0.82      0.86        33\n",
            "           8       0.90      0.63      0.74        43\n",
            "           9       0.74      0.81      0.78        32\n",
            "\n",
            "    accuracy                           0.85       360\n",
            "   macro avg       0.85      0.85      0.85       360\n",
            "weighted avg       0.85      0.85      0.85       360\n",
            "\n",
            "accuracy:  0.8472222222222222\n"
          ]
        }
      ]
    },
    {
      "cell_type": "markdown",
      "source": [
        "단순한 알고리즘이라 정밀도가 낮은것 같다 "
      ],
      "metadata": {
        "id": "_5LSrJyVmf0S"
      }
    },
    {
      "cell_type": "markdown",
      "source": [
        "### RandomForest 사용하기"
      ],
      "metadata": {
        "id": "-8CnuTwln4er"
      }
    },
    {
      "cell_type": "code",
      "source": [
        "from sklearn.ensemble import RandomForestClassifier\n",
        "\n",
        "X_train, X_test, y_train, y_test = train_test_split(load_data, load_label, test_size=0.2, random_state=21)\n",
        "# 훈련용과 테스트용 분리\n",
        "random_forest = RandomForestClassifier(random_state=32)           # 데이터 섞기\n",
        "random_forest.fit(X_train, y_train)                               # 학습\n",
        "y_pred = random_forest.predict(X_test)                            # 테스트\n",
        "\n",
        "print(classification_report(y_test, y_pred))                      # 정밀도 출력\n",
        "\n",
        "accuracy = accuracy_score(y_test, y_pred)\n",
        "accuracy                         \n",
        "print('accuracy: ',accuracy)                                      # 정확도 출력"
      ],
      "metadata": {
        "id": "j24ZUtR_mZnB",
        "colab": {
          "base_uri": "https://localhost:8080/"
        },
        "outputId": "c2ade726-66e2-4529-f2f6-bca03652bb6c"
      },
      "execution_count": 65,
      "outputs": [
        {
          "output_type": "stream",
          "name": "stdout",
          "text": [
            "              precision    recall  f1-score   support\n",
            "\n",
            "           0       0.97      0.94      0.95        32\n",
            "           1       0.97      1.00      0.99        36\n",
            "           2       1.00      1.00      1.00        30\n",
            "           3       0.98      0.98      0.98        41\n",
            "           4       0.94      0.97      0.95        32\n",
            "           5       1.00      0.98      0.99        46\n",
            "           6       1.00      0.97      0.98        32\n",
            "           7       0.98      1.00      0.99        40\n",
            "           8       0.93      0.98      0.95        42\n",
            "           9       1.00      0.93      0.96        29\n",
            "\n",
            "    accuracy                           0.97       360\n",
            "   macro avg       0.98      0.97      0.97       360\n",
            "weighted avg       0.98      0.97      0.98       360\n",
            "\n",
            "accuracy:  0.975\n"
          ]
        }
      ]
    },
    {
      "cell_type": "markdown",
      "source": [
        "결정 트리를 여러개 겹쳐 좀 더 심도있게"
      ],
      "metadata": {
        "id": "mpi3Ew1ZnNZt"
      }
    },
    {
      "cell_type": "markdown",
      "source": [
        "### SVM 사용"
      ],
      "metadata": {
        "id": "ju_yrjPSBf2c"
      }
    },
    {
      "cell_type": "code",
      "source": [
        "from sklearn import svm\n",
        "svm_model = svm.SVC()\n",
        "\n",
        "X_train, X_test,y_train, y_test = train_test_split(load_data,load_label,test_size=0.2, random_state=7 ) \n",
        "# 훈련용, 테스트용 분리\n",
        "svm_model.fit(X_train, y_train)   # 학습\n",
        "y_pred = svm_model.predict(X_test)  # 테스트\n",
        "\n",
        "print(classification_report(y_test,y_pred))   # 정밀도출력\n",
        "\n",
        "accuracy = accuracy_score(y_test, y_pred)\n",
        "accuracy\n",
        "print('accuracy: ',accuracy)            #정확도 출력"
      ],
      "metadata": {
        "id": "F9_oENkumZfp",
        "colab": {
          "base_uri": "https://localhost:8080/"
        },
        "outputId": "cd2909db-3a31-4337-d8aa-9be9534d6cbc"
      },
      "execution_count": 66,
      "outputs": [
        {
          "output_type": "stream",
          "name": "stdout",
          "text": [
            "              precision    recall  f1-score   support\n",
            "\n",
            "           0       1.00      1.00      1.00        43\n",
            "           1       0.95      1.00      0.98        42\n",
            "           2       1.00      1.00      1.00        40\n",
            "           3       1.00      1.00      1.00        34\n",
            "           4       1.00      1.00      1.00        37\n",
            "           5       0.93      1.00      0.97        28\n",
            "           6       1.00      1.00      1.00        28\n",
            "           7       1.00      1.00      1.00        33\n",
            "           8       1.00      0.93      0.96        43\n",
            "           9       1.00      0.97      0.98        32\n",
            "\n",
            "    accuracy                           0.99       360\n",
            "   macro avg       0.99      0.99      0.99       360\n",
            "weighted avg       0.99      0.99      0.99       360\n",
            "\n",
            "accuracy:  0.9888888888888889\n"
          ]
        }
      ]
    },
    {
      "cell_type": "markdown",
      "source": [
        "### SGD Classifier 사용"
      ],
      "metadata": {
        "id": "UTOWUFt3BqrQ"
      }
    },
    {
      "cell_type": "code",
      "source": [
        "from sklearn.linear_model import SGDClassifier\n",
        "\n",
        "X_train, X_test,y_train, y_test = train_test_split(load_data,load_label,test_size=0.2, random_state=7 )   # 훈련용, 테스트용 분리\n",
        "\n",
        "sgd_model = SGDClassifier()      \n",
        "sgd_model.fit(X_train,y_train)            # 모델 학습\n",
        "y_pred = sgd_model.predict(X_test)        # 테스트\n",
        "\n",
        "print(classification_report(y_test,y_pred))  # 정밀도 출력\n",
        "accuracy = accuracy_score(y_test, y_pred)\n",
        "accuracy\n",
        "print('accuracy: ',accuracy)                 # 정확도 출력"
      ],
      "metadata": {
        "id": "op_DBU10mZUH",
        "colab": {
          "base_uri": "https://localhost:8080/"
        },
        "outputId": "33a000b0-949b-4e56-c5e2-dbdb59c90d3f"
      },
      "execution_count": 67,
      "outputs": [
        {
          "output_type": "stream",
          "name": "stdout",
          "text": [
            "              precision    recall  f1-score   support\n",
            "\n",
            "           0       1.00      1.00      1.00        43\n",
            "           1       0.92      0.86      0.89        42\n",
            "           2       0.97      0.97      0.97        40\n",
            "           3       0.87      0.97      0.92        34\n",
            "           4       1.00      0.97      0.99        37\n",
            "           5       0.90      1.00      0.95        28\n",
            "           6       0.93      0.93      0.93        28\n",
            "           7       0.94      0.97      0.96        33\n",
            "           8       0.90      0.88      0.89        43\n",
            "           9       0.97      0.88      0.92        32\n",
            "\n",
            "    accuracy                           0.94       360\n",
            "   macro avg       0.94      0.94      0.94       360\n",
            "weighted avg       0.94      0.94      0.94       360\n",
            "\n",
            "accuracy:  0.9416666666666667\n"
          ]
        }
      ]
    },
    {
      "cell_type": "markdown",
      "source": [
        "### 로지스틱스 회귀 모델 적용"
      ],
      "metadata": {
        "id": "yNFe9W66mVz0"
      }
    },
    {
      "cell_type": "code",
      "source": [
        "from sklearn.linear_model import LogisticRegression    # 로지스틱스 회귀 불러오기\n",
        "\n",
        "X_train, X_test,y_train, y_test = train_test_split(load_data,load_label,test_size=0.2, random_state=7 ) \n",
        "\n",
        "logistic_model = LogisticRegression(random_state = 7)  # 인스턴스 지정 및 난수돌림\n",
        "logistic_model.fit(X_train, y_train)                   # 모델링 학습\n",
        "# 로지스틱스 회귀 모델 적용 \n",
        "y_pred = logistic_model.predict(X_test)               \n",
        "# 학습된 모델에 test데이터 넣기\n",
        "\n",
        "print(classification_report(y_test,y_pred))\n",
        "# 테스트의 결과 출력\n",
        "accuracy = accuracy_score(y_test, y_pred)\n",
        "accuracy\n",
        "print('accuracy: ',accuracy)"
      ],
      "metadata": {
        "colab": {
          "base_uri": "https://localhost:8080/"
        },
        "id": "jZI1KNsiP8PC",
        "outputId": "cd89bd02-258d-4928-caea-eb544b11d12f"
      },
      "execution_count": 68,
      "outputs": [
        {
          "output_type": "stream",
          "name": "stdout",
          "text": [
            "              precision    recall  f1-score   support\n",
            "\n",
            "           0       1.00      1.00      1.00        43\n",
            "           1       0.95      0.95      0.95        42\n",
            "           2       0.98      1.00      0.99        40\n",
            "           3       0.94      0.97      0.96        34\n",
            "           4       0.97      1.00      0.99        37\n",
            "           5       0.82      0.96      0.89        28\n",
            "           6       1.00      0.96      0.98        28\n",
            "           7       0.97      0.97      0.97        33\n",
            "           8       0.92      0.81      0.86        43\n",
            "           9       0.97      0.91      0.94        32\n",
            "\n",
            "    accuracy                           0.95       360\n",
            "   macro avg       0.95      0.95      0.95       360\n",
            "weighted avg       0.95      0.95      0.95       360\n",
            "\n",
            "accuracy:  0.9527777777777777\n"
          ]
        },
        {
          "output_type": "stream",
          "name": "stderr",
          "text": [
            "/usr/local/lib/python3.7/dist-packages/sklearn/linear_model/_logistic.py:818: ConvergenceWarning: lbfgs failed to converge (status=1):\n",
            "STOP: TOTAL NO. of ITERATIONS REACHED LIMIT.\n",
            "\n",
            "Increase the number of iterations (max_iter) or scale the data as shown in:\n",
            "    https://scikit-learn.org/stable/modules/preprocessing.html\n",
            "Please also refer to the documentation for alternative solver options:\n",
            "    https://scikit-learn.org/stable/modules/linear_model.html#logistic-regression\n",
            "  extra_warning_msg=_LOGISTIC_SOLVER_CONVERGENCE_MSG,\n"
          ]
        }
      ]
    },
    {
      "cell_type": "markdown",
      "source": [
        "# 6. 결론"
      ],
      "metadata": {
        "id": "uvUoPqa-6D5c"
      }
    },
    {
      "cell_type": "markdown",
      "source": [
        "이 프로젝트의 목표는 0~ 9사이의 손글씨 이미지를 분석하는 모델을 만드는 것이다     \n",
        "\n",
        "우선 sklearn에서 데이터셋을 불러온후 데이터를 분석한다     \n",
        "문제의 수와 각 문제에 들어있는 데이터를 확인하고 정답지를 확인하는등 데이터를 분석하는 과정을 모두 마치면 train_test_split을 활용해 기존의 문제를 훈련용과 테스트용으로 나눈다      \n",
        " 이러한 이유는 우리는 처음보는 문제에서도 잘풀수있는 범용적인 모델을 만들고 싶은데 기존의 데이터를 모두 학습시켰을때 현재 데이터에만 과하게 학습되어 처음보는 문제를 풀지 못하는 오류를 막기위해서 이다.   \n",
        "\n",
        " 나눈 데이터를 학습시키기 전에 학습 모델을 선정한다 \n",
        " 여기에서는 Decision Tree, Random Forest, SVM, SGD Classifier, Logistic Regression 로 총 5가지 학습모델을 각각 적용시킨후 정확도를 체크 하였다.     \n",
        "84%의 Decision Tree를 제외한 나머지는 93~98%로 양호한 정확도를 보여주었다.\n",
        "\n",
        "   \n",
        "\n"
      ],
      "metadata": {
        "id": "6subX4EL6aoR"
      }
    },
    {
      "cell_type": "markdown",
      "source": [
        "# 1-2 와인 분류하기"
      ],
      "metadata": {
        "id": "Fr-uj4x3Da4S"
      }
    },
    {
      "cell_type": "markdown",
      "source": [
        "# 1. 필요한 모듈 가져오기"
      ],
      "metadata": {
        "id": "lanpTKMGDd4h"
      }
    },
    {
      "cell_type": "code",
      "source": [
        "import numpy as np\n",
        "import pandas as pd\n",
        "import matplotlib.pyplot as plt\n",
        "%matplotlib inline\n",
        "from sklearn.datasets import load_wine\n",
        "from sklearn.model_selection import train_test_split\n",
        "from sklearn.metrics import classification_report"
      ],
      "metadata": {
        "id": "PTMWevdKDg1s"
      },
      "execution_count": 69,
      "outputs": []
    },
    {
      "cell_type": "markdown",
      "source": [
        "# 2. 데이터 준비"
      ],
      "metadata": {
        "id": "cBj-rXGJDj4G"
      }
    },
    {
      "cell_type": "code",
      "source": [
        "wine = load_wine()  # 불러온 데이터셋 변수 지정\n",
        "\n",
        "print(dir(wine))"
      ],
      "metadata": {
        "colab": {
          "base_uri": "https://localhost:8080/"
        },
        "id": "VqUh-_gsDl15",
        "outputId": "efdb1919-68e6-4085-e6a8-db2d1676542b"
      },
      "execution_count": 70,
      "outputs": [
        {
          "output_type": "stream",
          "name": "stdout",
          "text": [
            "['DESCR', 'data', 'feature_names', 'frame', 'target', 'target_names']\n"
          ]
        }
      ]
    },
    {
      "cell_type": "markdown",
      "source": [
        "# 3. 데이터 이해하기"
      ],
      "metadata": {
        "id": "Lw2azynJDnuL"
      }
    },
    {
      "cell_type": "code",
      "source": [
        "print(wine.keys())"
      ],
      "metadata": {
        "colab": {
          "base_uri": "https://localhost:8080/"
        },
        "id": "85cO7M7MDpHo",
        "outputId": "c0e7cf3f-0f2f-4929-ca3e-71c323d6f7df"
      },
      "execution_count": 71,
      "outputs": [
        {
          "output_type": "stream",
          "name": "stdout",
          "text": [
            "dict_keys(['data', 'target', 'frame', 'target_names', 'DESCR', 'feature_names'])\n"
          ]
        }
      ]
    },
    {
      "cell_type": "code",
      "source": [
        "print(wine.DESCR)    # 전체적인 정보를 한번에 볼수 있다"
      ],
      "metadata": {
        "colab": {
          "base_uri": "https://localhost:8080/"
        },
        "id": "Z1BHmFGQDrFG",
        "outputId": "8de9c500-5294-480c-8785-139269b6ad52"
      },
      "execution_count": 72,
      "outputs": [
        {
          "output_type": "stream",
          "name": "stdout",
          "text": [
            ".. _wine_dataset:\n",
            "\n",
            "Wine recognition dataset\n",
            "------------------------\n",
            "\n",
            "**Data Set Characteristics:**\n",
            "\n",
            "    :Number of Instances: 178 (50 in each of three classes)\n",
            "    :Number of Attributes: 13 numeric, predictive attributes and the class\n",
            "    :Attribute Information:\n",
            " \t\t- Alcohol\n",
            " \t\t- Malic acid\n",
            " \t\t- Ash\n",
            "\t\t- Alcalinity of ash  \n",
            " \t\t- Magnesium\n",
            "\t\t- Total phenols\n",
            " \t\t- Flavanoids\n",
            " \t\t- Nonflavanoid phenols\n",
            " \t\t- Proanthocyanins\n",
            "\t\t- Color intensity\n",
            " \t\t- Hue\n",
            " \t\t- OD280/OD315 of diluted wines\n",
            " \t\t- Proline\n",
            "\n",
            "    - class:\n",
            "            - class_0\n",
            "            - class_1\n",
            "            - class_2\n",
            "\t\t\n",
            "    :Summary Statistics:\n",
            "    \n",
            "    ============================= ==== ===== ======= =====\n",
            "                                   Min   Max   Mean     SD\n",
            "    ============================= ==== ===== ======= =====\n",
            "    Alcohol:                      11.0  14.8    13.0   0.8\n",
            "    Malic Acid:                   0.74  5.80    2.34  1.12\n",
            "    Ash:                          1.36  3.23    2.36  0.27\n",
            "    Alcalinity of Ash:            10.6  30.0    19.5   3.3\n",
            "    Magnesium:                    70.0 162.0    99.7  14.3\n",
            "    Total Phenols:                0.98  3.88    2.29  0.63\n",
            "    Flavanoids:                   0.34  5.08    2.03  1.00\n",
            "    Nonflavanoid Phenols:         0.13  0.66    0.36  0.12\n",
            "    Proanthocyanins:              0.41  3.58    1.59  0.57\n",
            "    Colour Intensity:              1.3  13.0     5.1   2.3\n",
            "    Hue:                          0.48  1.71    0.96  0.23\n",
            "    OD280/OD315 of diluted wines: 1.27  4.00    2.61  0.71\n",
            "    Proline:                       278  1680     746   315\n",
            "    ============================= ==== ===== ======= =====\n",
            "\n",
            "    :Missing Attribute Values: None\n",
            "    :Class Distribution: class_0 (59), class_1 (71), class_2 (48)\n",
            "    :Creator: R.A. Fisher\n",
            "    :Donor: Michael Marshall (MARSHALL%PLU@io.arc.nasa.gov)\n",
            "    :Date: July, 1988\n",
            "\n",
            "This is a copy of UCI ML Wine recognition datasets.\n",
            "https://archive.ics.uci.edu/ml/machine-learning-databases/wine/wine.data\n",
            "\n",
            "The data is the results of a chemical analysis of wines grown in the same\n",
            "region in Italy by three different cultivators. There are thirteen different\n",
            "measurements taken for different constituents found in the three types of\n",
            "wine.\n",
            "\n",
            "Original Owners: \n",
            "\n",
            "Forina, M. et al, PARVUS - \n",
            "An Extendible Package for Data Exploration, Classification and Correlation. \n",
            "Institute of Pharmaceutical and Food Analysis and Technologies,\n",
            "Via Brigata Salerno, 16147 Genoa, Italy.\n",
            "\n",
            "Citation:\n",
            "\n",
            "Lichman, M. (2013). UCI Machine Learning Repository\n",
            "[https://archive.ics.uci.edu/ml]. Irvine, CA: University of California,\n",
            "School of Information and Computer Science. \n",
            "\n",
            ".. topic:: References\n",
            "\n",
            "  (1) S. Aeberhard, D. Coomans and O. de Vel, \n",
            "  Comparison of Classifiers in High Dimensional Settings, \n",
            "  Tech. Rep. no. 92-02, (1992), Dept. of Computer Science and Dept. of  \n",
            "  Mathematics and Statistics, James Cook University of North Queensland. \n",
            "  (Also submitted to Technometrics). \n",
            "\n",
            "  The data was used with many others for comparing various \n",
            "  classifiers. The classes are separable, though only RDA \n",
            "  has achieved 100% correct classification. \n",
            "  (RDA : 100%, QDA 99.4%, LDA 98.9%, 1NN 96.1% (z-transformed data)) \n",
            "  (All results using the leave-one-out technique) \n",
            "\n",
            "  (2) S. Aeberhard, D. Coomans and O. de Vel, \n",
            "  \"THE CLASSIFICATION PERFORMANCE OF RDA\" \n",
            "  Tech. Rep. no. 92-01, (1992), Dept. of Computer Science and Dept. of \n",
            "  Mathematics and Statistics, James Cook University of North Queensland. \n",
            "  (Also submitted to Journal of Chemometrics).\n",
            "\n"
          ]
        }
      ]
    },
    {
      "cell_type": "code",
      "source": [
        "print(wine.data.shape) # 173개의 문제와 각각의 문제에 13개의 데이터가 있다"
      ],
      "metadata": {
        "colab": {
          "base_uri": "https://localhost:8080/"
        },
        "id": "2Y1tvV5cDs58",
        "outputId": "51306865-9ef8-4abd-9843-41e471c09220"
      },
      "execution_count": 73,
      "outputs": [
        {
          "output_type": "stream",
          "name": "stdout",
          "text": [
            "(178, 13)\n"
          ]
        }
      ]
    },
    {
      "cell_type": "code",
      "source": [
        "print(wine.feature_names)   # 13개 데이터의 각각의 이름 확인"
      ],
      "metadata": {
        "colab": {
          "base_uri": "https://localhost:8080/"
        },
        "id": "F2lEtqW-DvXK",
        "outputId": "a05a2183-a293-44b6-e3c9-d362736a0e2e"
      },
      "execution_count": 74,
      "outputs": [
        {
          "output_type": "stream",
          "name": "stdout",
          "text": [
            "['alcohol', 'malic_acid', 'ash', 'alcalinity_of_ash', 'magnesium', 'total_phenols', 'flavanoids', 'nonflavanoid_phenols', 'proanthocyanins', 'color_intensity', 'hue', 'od280/od315_of_diluted_wines', 'proline']\n"
          ]
        }
      ]
    },
    {
      "cell_type": "code",
      "source": [
        "print(wine.target)   # 답지 체크\n",
        "print(wine.target_names)  # clas0~2까지 3중 하나가 답인 답지인걸 확인"
      ],
      "metadata": {
        "colab": {
          "base_uri": "https://localhost:8080/"
        },
        "id": "VF-uZ-ktDwki",
        "outputId": "852eebe1-108c-4181-b3e6-3b5c9b08f6a3"
      },
      "execution_count": 75,
      "outputs": [
        {
          "output_type": "stream",
          "name": "stdout",
          "text": [
            "[0 0 0 0 0 0 0 0 0 0 0 0 0 0 0 0 0 0 0 0 0 0 0 0 0 0 0 0 0 0 0 0 0 0 0 0 0\n",
            " 0 0 0 0 0 0 0 0 0 0 0 0 0 0 0 0 0 0 0 0 0 0 1 1 1 1 1 1 1 1 1 1 1 1 1 1 1\n",
            " 1 1 1 1 1 1 1 1 1 1 1 1 1 1 1 1 1 1 1 1 1 1 1 1 1 1 1 1 1 1 1 1 1 1 1 1 1\n",
            " 1 1 1 1 1 1 1 1 1 1 1 1 1 1 1 1 1 1 1 2 2 2 2 2 2 2 2 2 2 2 2 2 2 2 2 2 2\n",
            " 2 2 2 2 2 2 2 2 2 2 2 2 2 2 2 2 2 2 2 2 2 2 2 2 2 2 2 2 2 2]\n",
            "['class_0' 'class_1' 'class_2']\n"
          ]
        }
      ]
    },
    {
      "cell_type": "code",
      "source": [
        "wine_data = wine.data\n",
        "wine_label=wine.target\n",
        "\n",
        "# 문제와 답지 정해주기"
      ],
      "metadata": {
        "id": "O-T1Iep2Dx6E"
      },
      "execution_count": 76,
      "outputs": []
    },
    {
      "cell_type": "markdown",
      "source": [
        "# 4. train, test 데이터 분리"
      ],
      "metadata": {
        "id": "dPOYP28aDyoF"
      }
    },
    {
      "cell_type": "code",
      "source": [
        "X_train, X_test, y_train, y_test = train_test_split(wine_data, wine_label, test_size=0.2, random_state = 7)\n",
        "print('X_train개수:', len(X_train),',X_test개수:',len(X_test))\n",
        "print(X_train.shape, y_train.shape)\n",
        "print(X_test.shape, y_test.shape)\n",
        "\n",
        "# 학습용과 평가용으로 나눠서 섞어준다"
      ],
      "metadata": {
        "colab": {
          "base_uri": "https://localhost:8080/"
        },
        "id": "SBVnx__CD2H3",
        "outputId": "1e64939d-de49-4246-b5d6-f269ccbd6974"
      },
      "execution_count": 77,
      "outputs": [
        {
          "output_type": "stream",
          "name": "stdout",
          "text": [
            "X_train개수: 142 ,X_test개수: 36\n",
            "(142, 13) (142,)\n",
            "(36, 13) (36,)\n"
          ]
        }
      ]
    },
    {
      "cell_type": "markdown",
      "source": [
        "# 5. 다양한 모델로 학습시켜 보기"
      ],
      "metadata": {
        "id": "d5fAzYtPD3fE"
      }
    },
    {
      "cell_type": "markdown",
      "source": [
        "## Decision Tree 적용"
      ],
      "metadata": {
        "id": "bXizq4WnD5Sl"
      }
    },
    {
      "cell_type": "code",
      "source": [
        "from sklearn.tree import DecisionTreeClassifier   # 결정트리 학습모델 불러오기\n",
        "\n",
        "decision_tree = DecisionTreeClassifier(random_state = 7)  # 변수지정\n",
        "decision_tree.fit(X_train, y_train)                       # 학습\n",
        "\n",
        "y_pred = decision_tree.predict(X_test)                    # 테스트 예측값 넣기\n",
        "\n",
        "from sklearn.metrics import accuracy_score               # 정확도 메서드 가져오기\n",
        "\n",
        "print(classification_report(y_test, y_pred))\n",
        "\n",
        "accuracy = accuracy_score(y_test, y_pred)\n",
        "accuracy\n",
        "print('accuracy: ',accuracy)"
      ],
      "metadata": {
        "colab": {
          "base_uri": "https://localhost:8080/"
        },
        "id": "BsgeDAOcD7fy",
        "outputId": "98fd8634-117a-4f22-ae80-27e0517ee85a"
      },
      "execution_count": 78,
      "outputs": [
        {
          "output_type": "stream",
          "name": "stdout",
          "text": [
            "              precision    recall  f1-score   support\n",
            "\n",
            "           0       0.88      1.00      0.93         7\n",
            "           1       0.89      0.94      0.91        17\n",
            "           2       1.00      0.83      0.91        12\n",
            "\n",
            "    accuracy                           0.92        36\n",
            "   macro avg       0.92      0.92      0.92        36\n",
            "weighted avg       0.92      0.92      0.92        36\n",
            "\n",
            "accuracy:  0.9166666666666666\n"
          ]
        }
      ]
    },
    {
      "cell_type": "markdown",
      "source": [
        "## Random Forest 사용"
      ],
      "metadata": {
        "id": "212vhpIxD9Hy"
      }
    },
    {
      "cell_type": "code",
      "source": [
        "from sklearn.ensemble import RandomForestClassifier\n",
        "from sklearn.metrics import accuracy_score\n",
        "X_train, X_test, y_train, y_test = train_test_split(wine_data, wine_label, test_size=0.2, random_state=21)\n",
        "\n",
        "random_forest = RandomForestClassifier(random_state=32)\n",
        "random_forest.fit(X_train, y_train)\n",
        "y_pred = random_forest.predict(X_test)\n",
        "\n",
        "print(classification_report(y_test, y_pred))\n",
        "\n",
        "accuracy = accuracy_score(y_test, y_pred)\n",
        "accuracy"
      ],
      "metadata": {
        "colab": {
          "base_uri": "https://localhost:8080/"
        },
        "id": "yVSIyZYDD_I_",
        "outputId": "c66af6aa-fdef-4beb-8e65-d57c87353107"
      },
      "execution_count": 79,
      "outputs": [
        {
          "output_type": "stream",
          "name": "stdout",
          "text": [
            "              precision    recall  f1-score   support\n",
            "\n",
            "           0       1.00      1.00      1.00        15\n",
            "           1       1.00      1.00      1.00        10\n",
            "           2       1.00      1.00      1.00        11\n",
            "\n",
            "    accuracy                           1.00        36\n",
            "   macro avg       1.00      1.00      1.00        36\n",
            "weighted avg       1.00      1.00      1.00        36\n",
            "\n"
          ]
        },
        {
          "output_type": "execute_result",
          "data": {
            "text/plain": [
              "1.0"
            ]
          },
          "metadata": {},
          "execution_count": 79
        }
      ]
    },
    {
      "cell_type": "markdown",
      "source": [
        "## SVM 사용"
      ],
      "metadata": {
        "id": "jIxvDOcaEETc"
      }
    },
    {
      "cell_type": "code",
      "source": [
        "from sklearn import svm\n",
        "svm_model = svm.SVC()\n",
        "\n",
        "svm_model.fit(X_train, y_train)\n",
        "y_pred = svm_model.predict(X_test)\n",
        "\n",
        "print(classification_report(y_test, y_pred))\n",
        "\n",
        "accuracy = accuracy_score(y_test, y_pred)\n",
        "accuracy"
      ],
      "metadata": {
        "colab": {
          "base_uri": "https://localhost:8080/"
        },
        "id": "LkhnzZOVEF27",
        "outputId": "c6253802-f322-45c7-89a8-506f5df7ae9b"
      },
      "execution_count": 80,
      "outputs": [
        {
          "output_type": "stream",
          "name": "stdout",
          "text": [
            "              precision    recall  f1-score   support\n",
            "\n",
            "           0       0.86      0.80      0.83        15\n",
            "           1       0.45      1.00      0.62        10\n",
            "           2       0.00      0.00      0.00        11\n",
            "\n",
            "    accuracy                           0.61        36\n",
            "   macro avg       0.44      0.60      0.48        36\n",
            "weighted avg       0.48      0.61      0.52        36\n",
            "\n"
          ]
        },
        {
          "output_type": "stream",
          "name": "stderr",
          "text": [
            "/usr/local/lib/python3.7/dist-packages/sklearn/metrics/_classification.py:1318: UndefinedMetricWarning: Precision and F-score are ill-defined and being set to 0.0 in labels with no predicted samples. Use `zero_division` parameter to control this behavior.\n",
            "  _warn_prf(average, modifier, msg_start, len(result))\n",
            "/usr/local/lib/python3.7/dist-packages/sklearn/metrics/_classification.py:1318: UndefinedMetricWarning: Precision and F-score are ill-defined and being set to 0.0 in labels with no predicted samples. Use `zero_division` parameter to control this behavior.\n",
            "  _warn_prf(average, modifier, msg_start, len(result))\n",
            "/usr/local/lib/python3.7/dist-packages/sklearn/metrics/_classification.py:1318: UndefinedMetricWarning: Precision and F-score are ill-defined and being set to 0.0 in labels with no predicted samples. Use `zero_division` parameter to control this behavior.\n",
            "  _warn_prf(average, modifier, msg_start, len(result))\n"
          ]
        },
        {
          "output_type": "execute_result",
          "data": {
            "text/plain": [
              "0.6111111111111112"
            ]
          },
          "metadata": {},
          "execution_count": 80
        }
      ]
    },
    {
      "cell_type": "markdown",
      "source": [
        "SGD Classifier 사용"
      ],
      "metadata": {
        "id": "jiEvaZysEHJu"
      }
    },
    {
      "cell_type": "code",
      "source": [
        "from sklearn.linear_model import SGDClassifier\n",
        "sgd_model = SGDClassifier()\n",
        "\n",
        "sgd_model.fit(X_train, y_train)\n",
        "y_pred = sgd_model.predict(X_test)\n",
        "\n",
        "print(classification_report(y_test,y_pred))\n",
        "\n",
        "accuracy = accuracy_score(y_test, y_pred)\n",
        "accuracy"
      ],
      "metadata": {
        "colab": {
          "base_uri": "https://localhost:8080/"
        },
        "id": "7syF6autEIJ6",
        "outputId": "2c3b2529-83d8-4e0a-fd41-590971ecfe9c"
      },
      "execution_count": 81,
      "outputs": [
        {
          "output_type": "stream",
          "name": "stdout",
          "text": [
            "              precision    recall  f1-score   support\n",
            "\n",
            "           0       1.00      0.67      0.80        15\n",
            "           1       0.45      0.50      0.48        10\n",
            "           2       0.33      0.45      0.38        11\n",
            "\n",
            "    accuracy                           0.56        36\n",
            "   macro avg       0.60      0.54      0.55        36\n",
            "weighted avg       0.64      0.56      0.58        36\n",
            "\n"
          ]
        },
        {
          "output_type": "execute_result",
          "data": {
            "text/plain": [
              "0.5555555555555556"
            ]
          },
          "metadata": {},
          "execution_count": 81
        }
      ]
    },
    {
      "cell_type": "markdown",
      "source": [
        "## Logistic Regression 사용"
      ],
      "metadata": {
        "id": "yfEp4AA3EKT7"
      }
    },
    {
      "cell_type": "code",
      "source": [
        "from sklearn.linear_model import LogisticRegression\n",
        "logistic_model = LogisticRegression()\n",
        "\n",
        "logistic_model.fit(X_train, y_train)\n",
        "y_pred = logistic_model.predict(X_test)\n",
        "\n",
        "print(classification_report(y_test,y_pred))\n",
        "\n",
        "accuracy = accuracy_score(y_test, y_pred)\n",
        "accuracy"
      ],
      "metadata": {
        "colab": {
          "base_uri": "https://localhost:8080/"
        },
        "id": "618M7oegEL1_",
        "outputId": "4927d56c-6e9f-4e3a-a304-52be7635d4d7"
      },
      "execution_count": 82,
      "outputs": [
        {
          "output_type": "stream",
          "name": "stdout",
          "text": [
            "              precision    recall  f1-score   support\n",
            "\n",
            "           0       1.00      1.00      1.00        15\n",
            "           1       1.00      1.00      1.00        10\n",
            "           2       1.00      1.00      1.00        11\n",
            "\n",
            "    accuracy                           1.00        36\n",
            "   macro avg       1.00      1.00      1.00        36\n",
            "weighted avg       1.00      1.00      1.00        36\n",
            "\n"
          ]
        },
        {
          "output_type": "stream",
          "name": "stderr",
          "text": [
            "/usr/local/lib/python3.7/dist-packages/sklearn/linear_model/_logistic.py:818: ConvergenceWarning: lbfgs failed to converge (status=1):\n",
            "STOP: TOTAL NO. of ITERATIONS REACHED LIMIT.\n",
            "\n",
            "Increase the number of iterations (max_iter) or scale the data as shown in:\n",
            "    https://scikit-learn.org/stable/modules/preprocessing.html\n",
            "Please also refer to the documentation for alternative solver options:\n",
            "    https://scikit-learn.org/stable/modules/linear_model.html#logistic-regression\n",
            "  extra_warning_msg=_LOGISTIC_SOLVER_CONVERGENCE_MSG,\n"
          ]
        },
        {
          "output_type": "execute_result",
          "data": {
            "text/plain": [
              "1.0"
            ]
          },
          "metadata": {},
          "execution_count": 82
        }
      ]
    },
    {
      "cell_type": "markdown",
      "source": [
        "# 6. 결론"
      ],
      "metadata": {
        "id": "AvhXNqgyENc1"
      }
    },
    {
      "cell_type": "markdown",
      "source": [
        "2번째 프로젝트는 와인분류모델링이다 앞의 프로젝트와 동일하게 데이터를 keys를 통해 변수들을 확인하고 데이터와 문제를 각각의 변수에 할당한다. 문제와 답을 훈련용과 테스트용으로 섞어서 나눠준다.\n",
        "5가지 학습 모델을 이용해 학습을 시킨후 정확도를 체크한다. Random Forest, Logistic Regression이 오차없이 모든답을 다 맞추었고 Decision Tree는 91% 나머지 SVM, SGD 는 60%대로 낮은 정답율을 보여주었다.\n",
        "Random Forest는 앙상블을 활용해 항상 높은 값을 가질것으로 예상되며 로지스틱 회귀는 확율을 근거로 추정하기 때문에 이러한 분류 모델에 적합한 것 같다 SVM과 SGD는 낮은 정확도를 보였는데 차트를 확인하니 class2를 하나도 맞추지 못했다"
      ],
      "metadata": {
        "id": "ksY9XHu8EPj3"
      }
    },
    {
      "cell_type": "markdown",
      "source": [
        "-----------------------------------------------------------------------------------------------------"
      ],
      "metadata": {
        "id": "VPesLSbBER0h"
      }
    },
    {
      "cell_type": "markdown",
      "source": [
        "# 1-3 유방암 여부를 진단해보자"
      ],
      "metadata": {
        "id": "NZv_gSQ2ETtC"
      }
    },
    {
      "cell_type": "markdown",
      "source": [
        "# 1. 모듈불러오기"
      ],
      "metadata": {
        "id": "rYTAUShmEV-p"
      }
    },
    {
      "cell_type": "code",
      "source": [
        "import numpy as np\n",
        "import pandas as pd\n",
        "import matplotlib.pyplot as plt\n",
        "%matplotlib inline\n",
        "from sklearn.datasets import load_breast_cancer     # 데이터셋 가져오기\n",
        "from sklearn.model_selection import train_test_split \n",
        "from sklearn.metrics import classification_report"
      ],
      "metadata": {
        "id": "0yb1nf42EYow"
      },
      "execution_count": 83,
      "outputs": []
    },
    {
      "cell_type": "markdown",
      "source": [
        "# 2. 데이터 준비"
      ],
      "metadata": {
        "id": "fs7-vKLuEagp"
      }
    },
    {
      "cell_type": "code",
      "source": [
        "cancer= load_breast_cancer()\n",
        "print(dir(cancer))   # 어떤 변수와 메서드를 가지고 있는지 체크"
      ],
      "metadata": {
        "colab": {
          "base_uri": "https://localhost:8080/"
        },
        "id": "aChqqjeIEdF0",
        "outputId": "2735c485-e938-467a-85eb-741b85057ee7"
      },
      "execution_count": 84,
      "outputs": [
        {
          "output_type": "stream",
          "name": "stdout",
          "text": [
            "['DESCR', 'data', 'data_module', 'feature_names', 'filename', 'frame', 'target', 'target_names']\n"
          ]
        }
      ]
    },
    {
      "cell_type": "markdown",
      "source": [
        "# 3. 데이터의 정보확인"
      ],
      "metadata": {
        "id": "I6Cmnt32Ecrn"
      }
    },
    {
      "cell_type": "code",
      "source": [
        "cancer.keys()    # 정보체크"
      ],
      "metadata": {
        "colab": {
          "base_uri": "https://localhost:8080/"
        },
        "id": "YibgQHnwEgKX",
        "outputId": "69af287f-e1e7-47e9-b05d-3bc4aaf873cf"
      },
      "execution_count": 85,
      "outputs": [
        {
          "output_type": "execute_result",
          "data": {
            "text/plain": [
              "dict_keys(['data', 'target', 'frame', 'target_names', 'DESCR', 'feature_names', 'filename', 'data_module'])"
            ]
          },
          "metadata": {},
          "execution_count": 85
        }
      ]
    },
    {
      "cell_type": "code",
      "source": [
        "print(cancer.DESCR)"
      ],
      "metadata": {
        "colab": {
          "base_uri": "https://localhost:8080/"
        },
        "id": "lQ8AGYDwEhub",
        "outputId": "5358ebf0-57c6-49b8-9cb4-de4fb35fa7fa"
      },
      "execution_count": 86,
      "outputs": [
        {
          "output_type": "stream",
          "name": "stdout",
          "text": [
            ".. _breast_cancer_dataset:\n",
            "\n",
            "Breast cancer wisconsin (diagnostic) dataset\n",
            "--------------------------------------------\n",
            "\n",
            "**Data Set Characteristics:**\n",
            "\n",
            "    :Number of Instances: 569\n",
            "\n",
            "    :Number of Attributes: 30 numeric, predictive attributes and the class\n",
            "\n",
            "    :Attribute Information:\n",
            "        - radius (mean of distances from center to points on the perimeter)\n",
            "        - texture (standard deviation of gray-scale values)\n",
            "        - perimeter\n",
            "        - area\n",
            "        - smoothness (local variation in radius lengths)\n",
            "        - compactness (perimeter^2 / area - 1.0)\n",
            "        - concavity (severity of concave portions of the contour)\n",
            "        - concave points (number of concave portions of the contour)\n",
            "        - symmetry\n",
            "        - fractal dimension (\"coastline approximation\" - 1)\n",
            "\n",
            "        The mean, standard error, and \"worst\" or largest (mean of the three\n",
            "        worst/largest values) of these features were computed for each image,\n",
            "        resulting in 30 features.  For instance, field 0 is Mean Radius, field\n",
            "        10 is Radius SE, field 20 is Worst Radius.\n",
            "\n",
            "        - class:\n",
            "                - WDBC-Malignant\n",
            "                - WDBC-Benign\n",
            "\n",
            "    :Summary Statistics:\n",
            "\n",
            "    ===================================== ====== ======\n",
            "                                           Min    Max\n",
            "    ===================================== ====== ======\n",
            "    radius (mean):                        6.981  28.11\n",
            "    texture (mean):                       9.71   39.28\n",
            "    perimeter (mean):                     43.79  188.5\n",
            "    area (mean):                          143.5  2501.0\n",
            "    smoothness (mean):                    0.053  0.163\n",
            "    compactness (mean):                   0.019  0.345\n",
            "    concavity (mean):                     0.0    0.427\n",
            "    concave points (mean):                0.0    0.201\n",
            "    symmetry (mean):                      0.106  0.304\n",
            "    fractal dimension (mean):             0.05   0.097\n",
            "    radius (standard error):              0.112  2.873\n",
            "    texture (standard error):             0.36   4.885\n",
            "    perimeter (standard error):           0.757  21.98\n",
            "    area (standard error):                6.802  542.2\n",
            "    smoothness (standard error):          0.002  0.031\n",
            "    compactness (standard error):         0.002  0.135\n",
            "    concavity (standard error):           0.0    0.396\n",
            "    concave points (standard error):      0.0    0.053\n",
            "    symmetry (standard error):            0.008  0.079\n",
            "    fractal dimension (standard error):   0.001  0.03\n",
            "    radius (worst):                       7.93   36.04\n",
            "    texture (worst):                      12.02  49.54\n",
            "    perimeter (worst):                    50.41  251.2\n",
            "    area (worst):                         185.2  4254.0\n",
            "    smoothness (worst):                   0.071  0.223\n",
            "    compactness (worst):                  0.027  1.058\n",
            "    concavity (worst):                    0.0    1.252\n",
            "    concave points (worst):               0.0    0.291\n",
            "    symmetry (worst):                     0.156  0.664\n",
            "    fractal dimension (worst):            0.055  0.208\n",
            "    ===================================== ====== ======\n",
            "\n",
            "    :Missing Attribute Values: None\n",
            "\n",
            "    :Class Distribution: 212 - Malignant, 357 - Benign\n",
            "\n",
            "    :Creator:  Dr. William H. Wolberg, W. Nick Street, Olvi L. Mangasarian\n",
            "\n",
            "    :Donor: Nick Street\n",
            "\n",
            "    :Date: November, 1995\n",
            "\n",
            "This is a copy of UCI ML Breast Cancer Wisconsin (Diagnostic) datasets.\n",
            "https://goo.gl/U2Uwz2\n",
            "\n",
            "Features are computed from a digitized image of a fine needle\n",
            "aspirate (FNA) of a breast mass.  They describe\n",
            "characteristics of the cell nuclei present in the image.\n",
            "\n",
            "Separating plane described above was obtained using\n",
            "Multisurface Method-Tree (MSM-T) [K. P. Bennett, \"Decision Tree\n",
            "Construction Via Linear Programming.\" Proceedings of the 4th\n",
            "Midwest Artificial Intelligence and Cognitive Science Society,\n",
            "pp. 97-101, 1992], a classification method which uses linear\n",
            "programming to construct a decision tree.  Relevant features\n",
            "were selected using an exhaustive search in the space of 1-4\n",
            "features and 1-3 separating planes.\n",
            "\n",
            "The actual linear program used to obtain the separating plane\n",
            "in the 3-dimensional space is that described in:\n",
            "[K. P. Bennett and O. L. Mangasarian: \"Robust Linear\n",
            "Programming Discrimination of Two Linearly Inseparable Sets\",\n",
            "Optimization Methods and Software 1, 1992, 23-34].\n",
            "\n",
            "This database is also available through the UW CS ftp server:\n",
            "\n",
            "ftp ftp.cs.wisc.edu\n",
            "cd math-prog/cpo-dataset/machine-learn/WDBC/\n",
            "\n",
            ".. topic:: References\n",
            "\n",
            "   - W.N. Street, W.H. Wolberg and O.L. Mangasarian. Nuclear feature extraction \n",
            "     for breast tumor diagnosis. IS&T/SPIE 1993 International Symposium on \n",
            "     Electronic Imaging: Science and Technology, volume 1905, pages 861-870,\n",
            "     San Jose, CA, 1993.\n",
            "   - O.L. Mangasarian, W.N. Street and W.H. Wolberg. Breast cancer diagnosis and \n",
            "     prognosis via linear programming. Operations Research, 43(4), pages 570-577, \n",
            "     July-August 1995.\n",
            "   - W.H. Wolberg, W.N. Street, and O.L. Mangasarian. Machine learning techniques\n",
            "     to diagnose breast cancer from fine-needle aspirates. Cancer Letters 77 (1994) \n",
            "     163-171.\n"
          ]
        }
      ]
    },
    {
      "cell_type": "code",
      "source": [
        "cancer_data = cancer.data\n",
        "print(cancer_data.shape)\n",
        "\n",
        "# 569개의 데이터(문제)와 각각30개의 정보 담고있음"
      ],
      "metadata": {
        "colab": {
          "base_uri": "https://localhost:8080/"
        },
        "id": "EjO6M3L1EjbY",
        "outputId": "66789fd9-f20c-415e-c6b4-5d58700f1f97"
      },
      "execution_count": 87,
      "outputs": [
        {
          "output_type": "stream",
          "name": "stdout",
          "text": [
            "(569, 30)\n"
          ]
        }
      ]
    },
    {
      "cell_type": "code",
      "source": [
        "print(cancer.feature_names) # 문제의 30개 데이터 이름들이다"
      ],
      "metadata": {
        "colab": {
          "base_uri": "https://localhost:8080/"
        },
        "id": "vAxjf8adEkPZ",
        "outputId": "f8f9f9e4-ba40-4c2e-88a5-bc914513297d"
      },
      "execution_count": 88,
      "outputs": [
        {
          "output_type": "stream",
          "name": "stdout",
          "text": [
            "['mean radius' 'mean texture' 'mean perimeter' 'mean area'\n",
            " 'mean smoothness' 'mean compactness' 'mean concavity'\n",
            " 'mean concave points' 'mean symmetry' 'mean fractal dimension'\n",
            " 'radius error' 'texture error' 'perimeter error' 'area error'\n",
            " 'smoothness error' 'compactness error' 'concavity error'\n",
            " 'concave points error' 'symmetry error' 'fractal dimension error'\n",
            " 'worst radius' 'worst texture' 'worst perimeter' 'worst area'\n",
            " 'worst smoothness' 'worst compactness' 'worst concavity'\n",
            " 'worst concave points' 'worst symmetry' 'worst fractal dimension']\n"
          ]
        }
      ]
    },
    {
      "cell_type": "code",
      "source": [
        "print(cancer.target)   # 답지 체크\n",
        "print(cancer.target_names) \n",
        "# 답지는 양성인지 음성인지 둘중 하나인것같다"
      ],
      "metadata": {
        "colab": {
          "base_uri": "https://localhost:8080/"
        },
        "id": "BmV-SFMbElSM",
        "outputId": "7888f3a3-a7bc-4482-f7a5-50621208b5c5"
      },
      "execution_count": 89,
      "outputs": [
        {
          "output_type": "stream",
          "name": "stdout",
          "text": [
            "[0 0 0 0 0 0 0 0 0 0 0 0 0 0 0 0 0 0 0 1 1 1 0 0 0 0 0 0 0 0 0 0 0 0 0 0 0\n",
            " 1 0 0 0 0 0 0 0 0 1 0 1 1 1 1 1 0 0 1 0 0 1 1 1 1 0 1 0 0 1 1 1 1 0 1 0 0\n",
            " 1 0 1 0 0 1 1 1 0 0 1 0 0 0 1 1 1 0 1 1 0 0 1 1 1 0 0 1 1 1 1 0 1 1 0 1 1\n",
            " 1 1 1 1 1 1 0 0 0 1 0 0 1 1 1 0 0 1 0 1 0 0 1 0 0 1 1 0 1 1 0 1 1 1 1 0 1\n",
            " 1 1 1 1 1 1 1 1 0 1 1 1 1 0 0 1 0 1 1 0 0 1 1 0 0 1 1 1 1 0 1 1 0 0 0 1 0\n",
            " 1 0 1 1 1 0 1 1 0 0 1 0 0 0 0 1 0 0 0 1 0 1 0 1 1 0 1 0 0 0 0 1 1 0 0 1 1\n",
            " 1 0 1 1 1 1 1 0 0 1 1 0 1 1 0 0 1 0 1 1 1 1 0 1 1 1 1 1 0 1 0 0 0 0 0 0 0\n",
            " 0 0 0 0 0 0 0 1 1 1 1 1 1 0 1 0 1 1 0 1 1 0 1 0 0 1 1 1 1 1 1 1 1 1 1 1 1\n",
            " 1 0 1 1 0 1 0 1 1 1 1 1 1 1 1 1 1 1 1 1 1 0 1 1 1 0 1 0 1 1 1 1 0 0 0 1 1\n",
            " 1 1 0 1 0 1 0 1 1 1 0 1 1 1 1 1 1 1 0 0 0 1 1 1 1 1 1 1 1 1 1 1 0 0 1 0 0\n",
            " 0 1 0 0 1 1 1 1 1 0 1 1 1 1 1 0 1 1 1 0 1 1 0 0 1 1 1 1 1 1 0 1 1 1 1 1 1\n",
            " 1 0 1 1 1 1 1 0 1 1 0 1 1 1 1 1 1 1 1 1 1 1 1 0 1 0 0 1 0 1 1 1 1 1 0 1 1\n",
            " 0 1 0 1 1 0 1 0 1 1 1 1 1 1 1 1 0 0 1 1 1 1 1 1 0 1 1 1 1 1 1 1 1 1 1 0 1\n",
            " 1 1 1 1 1 1 0 1 0 1 1 0 1 1 1 1 1 0 0 1 0 1 0 1 1 1 1 1 0 1 1 0 1 0 1 0 0\n",
            " 1 1 1 0 1 1 1 1 1 1 1 1 1 1 1 0 1 0 0 1 1 1 1 1 1 1 1 1 1 1 1 1 1 1 1 1 1\n",
            " 1 1 1 1 1 1 1 0 0 0 0 0 0 1]\n",
            "['malignant' 'benign']\n"
          ]
        }
      ]
    },
    {
      "cell_type": "code",
      "source": [
        "cancer_data = cancer.data\n",
        "cancer_label = cancer.target\n",
        "# 문제와 답지 지정"
      ],
      "metadata": {
        "id": "nW_0IMuSEmdQ"
      },
      "execution_count": 90,
      "outputs": []
    },
    {
      "cell_type": "markdown",
      "source": [
        "# 4. train, test 데이터 분리"
      ],
      "metadata": {
        "id": "ksTAx_U2Ent_"
      }
    },
    {
      "cell_type": "code",
      "source": [
        "X_train, X_test, y_train, y_test = train_test_split(cancer_data, cancer_label, test_size=0.2, random_state = 7)\n",
        "print('X_train개수:', len(X_train),',X_test개수:',len(X_test))\n",
        "print(X_train.shape, y_train.shape)\n",
        "print(X_test.shape, y_test.shape)\n",
        "\n",
        "# 데이터를 나눠준다"
      ],
      "metadata": {
        "colab": {
          "base_uri": "https://localhost:8080/"
        },
        "id": "LBL5l6LOEqQ4",
        "outputId": "447acd52-380f-4f5a-f281-32433a345468"
      },
      "execution_count": 91,
      "outputs": [
        {
          "output_type": "stream",
          "name": "stdout",
          "text": [
            "X_train개수: 455 ,X_test개수: 114\n",
            "(455, 30) (455,)\n",
            "(114, 30) (114,)\n"
          ]
        }
      ]
    },
    {
      "cell_type": "markdown",
      "source": [
        "# 5. 다양한 모델로 학습시켜 보기"
      ],
      "metadata": {
        "id": "ysKsggl7EsHR"
      }
    },
    {
      "cell_type": "markdown",
      "source": [
        "## Decision Tree 사용"
      ],
      "metadata": {
        "id": "d9NoXzy-Etti"
      }
    },
    {
      "cell_type": "code",
      "source": [
        "from sklearn.tree import DecisionTreeClassifier\n",
        "\n",
        "decision_tree = DecisionTreeClassifier(random_state=32)\n",
        "print(decision_tree._estimator_type)\n",
        "\n",
        "decision_tree.fit(X_train, y_train)\n",
        "\n",
        "y_pred = decision_tree.predict(X_test)\n",
        "print(classification_report(y_test, y_pred))\n",
        "\n",
        "from sklearn.metrics import accuracy_score\n",
        "\n",
        "accuracy = accuracy_score(y_test, y_pred)\n",
        "print('accuracy: ',accuracy)"
      ],
      "metadata": {
        "colab": {
          "base_uri": "https://localhost:8080/"
        },
        "id": "alLGJUgzEvl-",
        "outputId": "d93f8dc1-64eb-4403-a7a6-49fcb2a8a55f"
      },
      "execution_count": 92,
      "outputs": [
        {
          "output_type": "stream",
          "name": "stdout",
          "text": [
            "classifier\n",
            "              precision    recall  f1-score   support\n",
            "\n",
            "           0       0.92      0.82      0.87        40\n",
            "           1       0.91      0.96      0.93        74\n",
            "\n",
            "    accuracy                           0.91       114\n",
            "   macro avg       0.91      0.89      0.90       114\n",
            "weighted avg       0.91      0.91      0.91       114\n",
            "\n",
            "accuracy:  0.9122807017543859\n"
          ]
        }
      ]
    },
    {
      "cell_type": "markdown",
      "source": [
        "## Random Forest 사용"
      ],
      "metadata": {
        "id": "4rfg8TTtExDX"
      }
    },
    {
      "cell_type": "code",
      "source": [
        "from sklearn.ensemble import RandomForestClassifier\n",
        "\n",
        "X_train, X_test, y_train, y_test = train_test_split(cancer_data, cancer_label, test_size=0.2, random_state=21)\n",
        "\n",
        "random_forest = RandomForestClassifier(random_state=32)\n",
        "random_forest.fit(X_train, y_train)\n",
        "y_pred = random_forest.predict(X_test)\n",
        "\n",
        "print(classification_report(y_test, y_pred))\n",
        "\n",
        "accuracy = accuracy_score(y_test, y_pred)\n",
        "print('accuracy: ',accuracy)"
      ],
      "metadata": {
        "colab": {
          "base_uri": "https://localhost:8080/"
        },
        "id": "JpCoWJHYEzAD",
        "outputId": "f3346b51-cfa3-44fe-ded1-ff88698cefda"
      },
      "execution_count": 93,
      "outputs": [
        {
          "output_type": "stream",
          "name": "stdout",
          "text": [
            "              precision    recall  f1-score   support\n",
            "\n",
            "           0       0.97      0.95      0.96        39\n",
            "           1       0.97      0.99      0.98        75\n",
            "\n",
            "    accuracy                           0.97       114\n",
            "   macro avg       0.97      0.97      0.97       114\n",
            "weighted avg       0.97      0.97      0.97       114\n",
            "\n",
            "accuracy:  0.9736842105263158\n"
          ]
        }
      ]
    },
    {
      "cell_type": "markdown",
      "source": [
        "## SVM 사용"
      ],
      "metadata": {
        "id": "OMt8uXlME0w4"
      }
    },
    {
      "cell_type": "code",
      "source": [
        "from sklearn import svm\n",
        "svm_model = svm.SVC()\n",
        "\n",
        "svm_model.fit(X_train, y_train)\n",
        "y_pred = svm_model.predict(X_test)\n",
        "\n",
        "print(classification_report(y_test, y_pred))\n",
        "\n",
        "accuracy = accuracy_score(y_test, y_pred)\n",
        "print('accuracy: ',accuracy)"
      ],
      "metadata": {
        "colab": {
          "base_uri": "https://localhost:8080/"
        },
        "id": "ikR8oQw9E3MZ",
        "outputId": "eb4f6236-0ab7-4781-f64d-57dc9c3eef6f"
      },
      "execution_count": 94,
      "outputs": [
        {
          "output_type": "stream",
          "name": "stdout",
          "text": [
            "              precision    recall  f1-score   support\n",
            "\n",
            "           0       0.93      0.72      0.81        39\n",
            "           1       0.87      0.97      0.92        75\n",
            "\n",
            "    accuracy                           0.89       114\n",
            "   macro avg       0.90      0.85      0.86       114\n",
            "weighted avg       0.89      0.89      0.88       114\n",
            "\n",
            "accuracy:  0.8859649122807017\n"
          ]
        }
      ]
    },
    {
      "cell_type": "markdown",
      "source": [
        "## SGD Classifier 사용"
      ],
      "metadata": {
        "id": "8ElNEXFfE4bn"
      }
    },
    {
      "cell_type": "code",
      "source": [
        "from sklearn.linear_model import SGDClassifier\n",
        "sgd_model = SGDClassifier()\n",
        "\n",
        "sgd_model.fit(X_train, y_train)\n",
        "y_pred = sgd_model.predict(X_test)\n",
        "\n",
        "print(classification_report(y_test,y_pred))\n",
        "\n",
        "accuracy = accuracy_score(y_test, y_pred)\n",
        "print('accuracy: ',accuracy)"
      ],
      "metadata": {
        "colab": {
          "base_uri": "https://localhost:8080/"
        },
        "id": "VZuLVxCsE6Ot",
        "outputId": "91c9fb1b-7e20-41b4-8d33-c48a88c97aa8"
      },
      "execution_count": 95,
      "outputs": [
        {
          "output_type": "stream",
          "name": "stdout",
          "text": [
            "              precision    recall  f1-score   support\n",
            "\n",
            "           0       0.66      0.95      0.78        39\n",
            "           1       0.97      0.75      0.84        75\n",
            "\n",
            "    accuracy                           0.82       114\n",
            "   macro avg       0.81      0.85      0.81       114\n",
            "weighted avg       0.86      0.82      0.82       114\n",
            "\n",
            "accuracy:  0.8157894736842105\n"
          ]
        }
      ]
    },
    {
      "cell_type": "markdown",
      "source": [
        "## Logistic Regression 사용"
      ],
      "metadata": {
        "id": "zSfh7d1bE7gZ"
      }
    },
    {
      "cell_type": "code",
      "source": [
        "from sklearn.linear_model import LogisticRegression\n",
        "logistic_model = LogisticRegression()\n",
        "\n",
        "logistic_model.fit(X_train, y_train)\n",
        "y_pred = logistic_model.predict(X_test)\n",
        "\n",
        "print(classification_report(y_test,y_pred))\n",
        "\n",
        "accuracy = accuracy_score(y_test, y_pred)\n",
        "print('accuracy: ',accuracy)"
      ],
      "metadata": {
        "colab": {
          "base_uri": "https://localhost:8080/"
        },
        "id": "w0KPUTjEE89m",
        "outputId": "d8cdd17b-592f-4215-d967-43ec01d366f6"
      },
      "execution_count": 96,
      "outputs": [
        {
          "output_type": "stream",
          "name": "stdout",
          "text": [
            "              precision    recall  f1-score   support\n",
            "\n",
            "           0       0.92      0.85      0.88        39\n",
            "           1       0.92      0.96      0.94        75\n",
            "\n",
            "    accuracy                           0.92       114\n",
            "   macro avg       0.92      0.90      0.91       114\n",
            "weighted avg       0.92      0.92      0.92       114\n",
            "\n",
            "accuracy:  0.9210526315789473\n"
          ]
        },
        {
          "output_type": "stream",
          "name": "stderr",
          "text": [
            "/usr/local/lib/python3.7/dist-packages/sklearn/linear_model/_logistic.py:818: ConvergenceWarning: lbfgs failed to converge (status=1):\n",
            "STOP: TOTAL NO. of ITERATIONS REACHED LIMIT.\n",
            "\n",
            "Increase the number of iterations (max_iter) or scale the data as shown in:\n",
            "    https://scikit-learn.org/stable/modules/preprocessing.html\n",
            "Please also refer to the documentation for alternative solver options:\n",
            "    https://scikit-learn.org/stable/modules/linear_model.html#logistic-regression\n",
            "  extra_warning_msg=_LOGISTIC_SOLVER_CONVERGENCE_MSG,\n"
          ]
        }
      ]
    },
    {
      "cell_type": "markdown",
      "source": [
        "# 6. 결론"
      ],
      "metadata": {
        "id": "K4ml-kfJE_Gw"
      }
    },
    {
      "cell_type": "markdown",
      "source": [
        "이번 프로젝트는 여러 데이터를 통해 유방암인지 아닌지를 구별하는 모델링이다 이번엔 다른 프로젝트와 달리 각 문제안에 30개의 많은 데이터가 있으며 그 데이터를 통해 정답엔 0인지 1인지를 선택하는 방식이다. 데이터를 분석하고 훈련용과 테스트용으로 데이터를 나눈후 학습시킨다. 여러가지 모델들로 학습을 시키고 정확도를 체크한다.\n",
        "이번 에는 RandomForest가 97%로 높은 수치를 보여주었고 나머지는 대부분 비슷한 수치를 보여주었다."
      ],
      "metadata": {
        "id": "X32lE4_JFBdn"
      }
    },
    {
      "cell_type": "markdown",
      "source": [
        "# 7. 회고"
      ],
      "metadata": {
        "id": "FUyJV4N7FOnh"
      }
    },
    {
      "cell_type": "markdown",
      "source": [
        "손글씨를 분류하는 모델링을 설계 해 보았다.  \n",
        "첫번째 프로젝트라 머신러닝이 어떤과정인지 감을 잡는데 시간을 많이 쓴것같다.    \n",
        "노드를 보기만 했을때와 실제로 타이핑을 하는것과 많이 다르다는 것을 알게 되었다.      \n",
        "분명 노드를 볼때는 다 이해를 했다고 생각 했는데 막상 코드를 쳐보려니 어디서 부터 어떻게 손을 대야 할지 막막했다. 데이터를 불러오고 데이터를 확인하는 것 까진 순조로웠다. 데이터들을 확인하면서 어떤 특징이 있고 답안의 개수가 몇개인지 등등 왜 이러한 과정을 거치는지 이해 할 수있었다. 생각보다 모델을 훈련시키는 것이 간단한것에 놀랐다. 단지 fit 함수 하나로 학습이 되는게 놀라웠다.\n",
        "문제는 어떤 학습모델을 사용해야 할지 선택하는 것인데 도저히 감을 못잡아서 그냥 시키는대로 5가지 모델을 다돌렸고 그 결과는 DecisionTree를 제외한 모든게 정확도 가 좋았다. 퍼실님들은 뭔가를 더 추가하거나 시각화 하는등을 추가하면 좋은 점수를 주실꺼라 하셨지만 지금 과정을 따라하는것도 벅차다. 다음에 좀 더 익숙해지면 배운것을 바탕으로 여러가지를 시도해 봐야겠다.\n",
        "\n",
        "마지막 유방암 프로젝트는 양성을 음성으로 판단하면 안되기 때문에 이부분을 평가모델을 수정하거나 다른방법을 써보고 싶었으나 시간부족과 이해도의 부족으로 생각만하고 시도는 못한것같아 아쉽다."
      ],
      "metadata": {
        "id": "G6trPi5felVQ"
      }
    }
  ]
}